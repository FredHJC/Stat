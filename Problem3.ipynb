{
 "cells": [
  {
   "cell_type": "code",
   "execution_count": 6,
   "metadata": {},
   "outputs": [],
   "source": [
    "from scipy.stats import bernoulli\n",
    "import numpy as np\n",
    "from sklearn.linear_model import LogisticRegression\n",
    "from sklearn.naive_bayes import GaussianNB"
   ]
  },
  {
   "cell_type": "code",
   "execution_count": 7,
   "metadata": {},
   "outputs": [],
   "source": [
    "def y_func(x):\n",
    "    y=0\n",
    "    if x<0.5:\n",
    "        rv=np.random.binomial(1,0.85)\n",
    "        if rv==1:\n",
    "            y=0\n",
    "        else:\n",
    "            y=1\n",
    "    else:\n",
    "        rv = np.random.binomial(1,0.85)\n",
    "        if rv==1:\n",
    "            y=1\n",
    "        else:\n",
    "            y=0\n",
    "    return y"
   ]
  },
  {
   "cell_type": "code",
   "execution_count": 8,
   "metadata": {},
   "outputs": [],
   "source": [
    "def get_data(size):\n",
    "    x=np.random.uniform(0,1,size).reshape(-1,1)\n",
    "    y=np.array([y_func(t) for t in x])\n",
    "    return x,y"
   ]
  },
  {
   "cell_type": "code",
   "execution_count": 9,
   "metadata": {},
   "outputs": [],
   "source": [
    "def run(size):\n",
    "    x_train,y_train=get_data(size)\n",
    "    x_test,y_test=get_data(size)\n",
    "\n",
    "    clf = LogisticRegression(random_state=0, solver='lbfgs').fit(x_train, y_train)\n",
    "    accuracy1=clf.score(x_test,y_test)\n",
    "\n",
    "    gnb = GaussianNB().fit(x_train, y_train)\n",
    "    accuracy2=gnb.score(x_test,y_test)\n",
    "    \n",
    "    return accuracy1,accuracy2"
   ]
  },
  {
   "cell_type": "code",
   "execution_count": 10,
   "metadata": {},
   "outputs": [
    {
     "name": "stdout",
     "output_type": "stream",
     "text": "Logistic Regression classifier:  0.859\nBayes optimal possible classifier:  0.857\n"
    }
   ],
   "source": [
    "accuracy1,accuracy2=run(1000)\n",
    "print('Logistic Regression classifier: ',accuracy1)\n",
    "print('Bayes optimal possible classifier: ', accuracy2)\n",
    ""
   ]
  },
  {
   "cell_type": "code",
   "execution_count": null,
   "metadata": {},
   "outputs": [],
   "source": []
  }
 ],
 "metadata": {
  "kernelspec": {
   "display_name": "Python 3",
   "language": "python",
   "name": "python3"
  },
  "language_info": {
   "codemirror_mode": {
    "name": "ipython",
    "version": 3
   },
   "file_extension": ".py",
   "mimetype": "text/x-python",
   "name": "python",
   "nbconvert_exporter": "python",
   "pygments_lexer": "ipython3",
   "version": "3.7.2"
  }
 },
 "nbformat": 4,
 "nbformat_minor": 4
}